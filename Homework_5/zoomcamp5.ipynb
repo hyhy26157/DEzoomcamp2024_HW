{
 "cells": [
  {
   "cell_type": "code",
   "execution_count": 2,
   "id": "0ea63773-4685-4b04-9854-0be712495440",
   "metadata": {},
   "outputs": [
    {
     "name": "stdout",
     "output_type": "stream",
     "text": [
      "Collecting pyspark\n",
      "  Downloading pyspark-3.5.0.tar.gz (316.9 MB)\n",
      "\u001b[2K     \u001b[90m━━━━━━━━━━━━━━━━━━━━━━━━━━━━━━━━━━━━━━━\u001b[0m \u001b[32m316.9/316.9 MB\u001b[0m \u001b[31m4.1 MB/s\u001b[0m eta \u001b[36m0:00:00\u001b[0m00:01\u001b[0m00:01\u001b[0m\n",
      "\u001b[?25h  Preparing metadata (setup.py) ... \u001b[?25ldone\n",
      "\u001b[?25hCollecting py4j==0.10.9.7\n",
      "  Downloading py4j-0.10.9.7-py2.py3-none-any.whl (200 kB)\n",
      "\u001b[2K     \u001b[90m━━━━━━━━━━━━━━━━━━━━━━━━━━━━━━━━━━━━━━\u001b[0m \u001b[32m200.5/200.5 kB\u001b[0m \u001b[31m43.0 MB/s\u001b[0m eta \u001b[36m0:00:00\u001b[0m\n",
      "\u001b[?25hInstalling collected packages: py4j, pyspark\n",
      "\u001b[33m  DEPRECATION: pyspark is being installed using the legacy 'setup.py install' method, because it does not have a 'pyproject.toml' and the 'wheel' package is not installed. pip 23.1 will enforce this behaviour change. A possible replacement is to enable the '--use-pep517' option. Discussion can be found at https://github.com/pypa/pip/issues/8559\u001b[0m\u001b[33m\n",
      "\u001b[0m  Running setup.py install for pyspark ... \u001b[?25ldone\n",
      "\u001b[?25hSuccessfully installed py4j-0.10.9.7 pyspark-3.5.0\n"
     ]
    }
   ],
   "source": [
    "#!pip install pyspark\n",
    "\n",
    "#!wget https://d37ci6vzurychx.cloudfront.net/trip-data/fhvhv_tripdata_2021-01.parquet"
   ]
  },
  {
   "cell_type": "code",
   "execution_count": 1,
   "id": "73aee304-4741-4db3-8a91-1f2210137945",
   "metadata": {},
   "outputs": [],
   "source": [
    "import os\n",
    "os.environ[\"JAVA_HOME\"] = \"/home/dariuslim269/jdk-11.0.2\"\n"
   ]
  },
  {
   "cell_type": "code",
   "execution_count": 2,
   "id": "3549698b-b1b4-40c8-9ab9-0910dc533d33",
   "metadata": {},
   "outputs": [],
   "source": [
    "import gzip\n",
    "\n",
    "gz_file_path = 'data/raw/green/2020/1/green_tripdata_2020_01.parquet.gz'\n",
    "output_file_path = 'data/raw/green/2020/1/data.parquet'\n",
    "\n",
    "# Define a function to decompress the .gz file\n",
    "def decompress_gz(gz_file, output_file):\n",
    "    with gzip.open(gz_file, 'rb') as f_in:\n",
    "        with open(output_file, 'wb') as f_out:\n",
    "            f_out.write(f_in.read())\n",
    "\n",
    "# Decompress the .gz file\n",
    "\n",
    "for i in range(1,13,1):\n",
    "    #decompress_gz(gz_file_path, output_file_path)\n",
    "    gz_file_path = f'data/raw/green/2020/{i}/green_tripdata_2020_{i:02}.parquet.gz'\n",
    "    output_file_path = f'data/raw/green/2020/{i}/data.parquet'\n",
    "    decompress_gz(gz_file_path, output_file_path)"
   ]
  },
  {
   "cell_type": "code",
   "execution_count": 6,
   "id": "196c6852-5595-4069-a58a-7b407902e4b9",
   "metadata": {},
   "outputs": [],
   "source": [
    "homework5_path = 'fhv_tripdata_2019-10'"
   ]
  },
  {
   "cell_type": "code",
   "execution_count": 43,
   "id": "7c5f37a9-7570-4236-83b4-c44625d64957",
   "metadata": {},
   "outputs": [
    {
     "name": "stdout",
     "output_type": "stream",
     "text": [
      "data\t\t\t\tjdk-11.0.2\t\t taxi+_zone_lookup.csv\n",
      "download_script.sh\t\tmyApp.py\t\t taxi_zone_lookup.csv\n",
      "fhv_tripdata_2019-10.parquet\tmyvenv\t\t\t zones\n",
      "fhvhv\t\t\t\tspark-3.3.2-bin-hadoop3  zoomcamp5.ipynb\n",
      "fhvhv_tripdata_2021-01.parquet\tspark-warehouse\n"
     ]
    }
   ],
   "source": [
    "!ls"
   ]
  },
  {
   "cell_type": "code",
   "execution_count": 9,
   "id": "37a07d39-9635-4681-b93a-eb947057ee19",
   "metadata": {
    "scrolled": true
   },
   "outputs": [
    {
     "name": "stdout",
     "output_type": "stream",
     "text": [
      "+--------------------+-------------------+-------------------+------------+------------+-------+----------------------+\n",
      "|dispatching_base_num|    pickup_datetime|   dropOff_datetime|PUlocationID|DOlocationID|SR_Flag|Affiliated_base_number|\n",
      "+--------------------+-------------------+-------------------+------------+------------+-------+----------------------+\n",
      "|              B00009|2019-10-01 00:23:00|2019-10-01 00:35:00|       264.0|       264.0|   NULL|                B00009|\n",
      "|              B00013|2019-10-01 00:11:29|2019-10-01 00:13:22|       264.0|       264.0|   NULL|                B00013|\n",
      "|              B00014|2019-10-01 00:11:43|2019-10-01 00:37:20|       264.0|       264.0|   NULL|                B00014|\n",
      "|              B00014|2019-10-01 00:56:29|2019-10-01 00:57:47|       264.0|       264.0|   NULL|                B00014|\n",
      "|              B00014|2019-10-01 00:23:09|2019-10-01 00:28:27|       264.0|       264.0|   NULL|                B00014|\n",
      "|     B00021         |2019-10-01 00:00:48|2019-10-01 00:07:12|       129.0|       129.0|   NULL|       B00021         |\n",
      "|     B00021         |2019-10-01 00:47:23|2019-10-01 00:53:25|        57.0|        57.0|   NULL|       B00021         |\n",
      "|     B00021         |2019-10-01 00:10:06|2019-10-01 00:19:50|       173.0|       173.0|   NULL|       B00021         |\n",
      "|     B00021         |2019-10-01 00:51:37|2019-10-01 01:06:14|       226.0|       226.0|   NULL|       B00021         |\n",
      "|     B00021         |2019-10-01 00:28:23|2019-10-01 00:34:33|        56.0|        56.0|   NULL|       B00021         |\n",
      "|     B00021         |2019-10-01 00:31:17|2019-10-01 00:51:52|        82.0|        82.0|   NULL|       B00021         |\n",
      "|              B00037|2019-10-01 00:07:41|2019-10-01 00:15:23|       264.0|        71.0|   NULL|                B00037|\n",
      "|              B00037|2019-10-01 00:13:38|2019-10-01 00:25:51|       264.0|        39.0|   NULL|                B00037|\n",
      "|              B00037|2019-10-01 00:42:40|2019-10-01 00:53:47|       264.0|       188.0|   NULL|                B00037|\n",
      "|              B00037|2019-10-01 00:58:46|2019-10-01 01:10:11|       264.0|        91.0|   NULL|                B00037|\n",
      "|              B00037|2019-10-01 00:09:49|2019-10-01 00:14:37|       264.0|        71.0|   NULL|                B00037|\n",
      "|              B00037|2019-10-01 00:22:35|2019-10-01 00:36:53|       264.0|        35.0|   NULL|                B00037|\n",
      "|              B00037|2019-10-01 00:54:27|2019-10-01 01:03:37|       264.0|        61.0|   NULL|                B00037|\n",
      "|              B00037|2019-10-01 00:08:12|2019-10-01 00:28:47|       264.0|       198.0|   NULL|                B00037|\n",
      "|              B00053|2019-10-01 00:05:24|2019-10-01 00:53:03|       264.0|       264.0|   NULL|                  #N/A|\n",
      "+--------------------+-------------------+-------------------+------------+------------+-------+----------------------+\n",
      "only showing top 20 rows\n",
      "\n"
     ]
    }
   ],
   "source": [
    "import pyspark\n",
    "from pyspark.sql import SparkSession\n",
    "\n",
    "spark = SparkSession.builder \\\n",
    "    .master(\"local[*]\") \\\n",
    "    .appName('test') \\\n",
    "    .config(\"spark.eventLog.enabled\", \"true\") \\\n",
    "    .config(\"spark.eventLog.dir\", \"file:/tmp/spark-events\") \\\n",
    "    .getOrCreate()\n",
    "\n",
    "\n",
    "df = spark.read \\\n",
    "    .option(\"header\", \"true\") \\\n",
    "    .parquet('fhv_tripdata_2019-10.parquet')\n",
    "\n",
    "df.show()"
   ]
  },
  {
   "cell_type": "code",
   "execution_count": 10,
   "id": "6b1ecf52-2787-4582-9dbf-2f1e6632aed9",
   "metadata": {},
   "outputs": [
    {
     "data": {
      "text/plain": [
       "StructType([StructField('dispatching_base_num', StringType(), True), StructField('pickup_datetime', TimestampNTZType(), True), StructField('dropOff_datetime', TimestampNTZType(), True), StructField('PUlocationID', DoubleType(), True), StructField('DOlocationID', DoubleType(), True), StructField('SR_Flag', IntegerType(), True), StructField('Affiliated_base_number', StringType(), True)])"
      ]
     },
     "execution_count": 10,
     "metadata": {},
     "output_type": "execute_result"
    }
   ],
   "source": [
    "df.schema"
   ]
  },
  {
   "cell_type": "code",
   "execution_count": 11,
   "id": "248aa1c3-9079-4e19-91cc-a6455781043a",
   "metadata": {},
   "outputs": [],
   "source": [
    "df = df.repartition(6)"
   ]
  },
  {
   "cell_type": "code",
   "execution_count": 12,
   "id": "39b467e6-c5aa-46fa-96d6-adaca47628e0",
   "metadata": {},
   "outputs": [
    {
     "name": "stderr",
     "output_type": "stream",
     "text": [
      "                                                                                \r"
     ]
    }
   ],
   "source": [
    "df.write.parquet('fhvhv/2019/10', mode='overwrite')"
   ]
  },
  {
   "cell_type": "code",
   "execution_count": 13,
   "id": "d8d68505-fef8-4b72-8343-74017694a3fb",
   "metadata": {},
   "outputs": [
    {
     "name": "stdout",
     "output_type": "stream",
     "text": [
      "root\n",
      " |-- dispatching_base_num: string (nullable = true)\n",
      " |-- pickup_datetime: timestamp_ntz (nullable = true)\n",
      " |-- dropOff_datetime: timestamp_ntz (nullable = true)\n",
      " |-- PUlocationID: double (nullable = true)\n",
      " |-- DOlocationID: double (nullable = true)\n",
      " |-- SR_Flag: integer (nullable = true)\n",
      " |-- Affiliated_base_number: string (nullable = true)\n",
      "\n"
     ]
    }
   ],
   "source": [
    "df.printSchema()"
   ]
  },
  {
   "cell_type": "code",
   "execution_count": 14,
   "id": "ae4a817b-ab98-4bf0-aa5b-d4844d5434d7",
   "metadata": {},
   "outputs": [],
   "source": [
    "#How many taxi trips were there on the 15th of October?\n",
    "df.createOrReplaceTempView(\"homework5\")"
   ]
  },
  {
   "cell_type": "code",
   "execution_count": 19,
   "id": "4c1e4ae9-d687-4e5d-8c21-ecd82ec8988e",
   "metadata": {},
   "outputs": [
    {
     "name": "stderr",
     "output_type": "stream",
     "text": [
      "[Stage 14:===========================================>              (3 + 1) / 4]\r"
     ]
    },
    {
     "name": "stdout",
     "output_type": "stream",
     "text": [
      "+--------+\n",
      "|count(1)|\n",
      "+--------+\n",
      "|62629   |\n",
      "+--------+\n",
      "\n"
     ]
    },
    {
     "name": "stderr",
     "output_type": "stream",
     "text": [
      "                                                                                \r"
     ]
    }
   ],
   "source": [
    "spark.sql(\" WITH CTE as (SELECT pickup_datetime, DAY(pickup_datetime) AS day_timestamp FROM homework5) SELECT COUNT(*) FROM CTE WHERE day_timestamp = 15\").show(truncate=False)"
   ]
  },
  {
   "cell_type": "code",
   "execution_count": 42,
   "id": "577dbebc-04a0-439d-9be7-db1a83f17a06",
   "metadata": {},
   "outputs": [
    {
     "name": "stderr",
     "output_type": "stream",
     "text": [
      "[Stage 79:======================================>                   (4 + 2) / 6]\r"
     ]
    },
    {
     "name": "stdout",
     "output_type": "stream",
     "text": [
      "+------------------+\n",
      "|duration_in_hours |\n",
      "+------------------+\n",
      "|631152.5          |\n",
      "|631152.5          |\n",
      "|87672.44083333334 |\n",
      "|70128.02805555555 |\n",
      "|8794.0            |\n",
      "|8784.166666666666 |\n",
      "|1464.5344444444434|\n",
      "|1056.8266666666666|\n",
      "|1056.2705555555567|\n",
      "|793.5530555555599 |\n",
      "|793.3858333333334 |\n",
      "|793.2975000000033 |\n",
      "|792.9980555555534 |\n",
      "|792.9883333333333 |\n",
      "|792.86027777778   |\n",
      "|792.8108333333299 |\n",
      "|792.7850000000033 |\n",
      "|792.7694444444467 |\n",
      "|792.75388888889   |\n",
      "|792.7463888888933 |\n",
      "+------------------+\n",
      "only showing top 20 rows\n",
      "\n"
     ]
    },
    {
     "name": "stderr",
     "output_type": "stream",
     "text": [
      "                                                                                \r"
     ]
    }
   ],
   "source": [
    "spark.sql(\" WITH CTE AS (SELECT ABS(dropOff_datetime-pickup_datetime) AS duration FROM homework5), CTE2 as ( SELECT (extract(day FROM duration) * 24 +  \\\n",
    "    extract(hour FROM duration) + \\\n",
    "    extract(minute FROM duration) / 60 + \\\n",
    "    extract(second FROM duration) / 3600) AS duration_in_hours FROM CTE) \\\n",
    "    SELECT duration_in_hours FROM CTE2 order by duration_in_hours desc \").show(truncate=False)"
   ]
  },
  {
   "cell_type": "code",
   "execution_count": 44,
   "id": "d4beee55-5f54-41e8-9edd-7766662f99cd",
   "metadata": {},
   "outputs": [
    {
     "name": "stdout",
     "output_type": "stream",
     "text": [
      "+----------+-------------+--------------------+------------+\n",
      "|LocationID|      Borough|                Zone|service_zone|\n",
      "+----------+-------------+--------------------+------------+\n",
      "|         1|          EWR|      Newark Airport|         EWR|\n",
      "|         2|       Queens|         Jamaica Bay|   Boro Zone|\n",
      "|         3|        Bronx|Allerton/Pelham G...|   Boro Zone|\n",
      "|         4|    Manhattan|       Alphabet City| Yellow Zone|\n",
      "|         5|Staten Island|       Arden Heights|   Boro Zone|\n",
      "|         6|Staten Island|Arrochar/Fort Wad...|   Boro Zone|\n",
      "|         7|       Queens|             Astoria|   Boro Zone|\n",
      "|         8|       Queens|        Astoria Park|   Boro Zone|\n",
      "|         9|       Queens|          Auburndale|   Boro Zone|\n",
      "|        10|       Queens|        Baisley Park|   Boro Zone|\n",
      "|        11|     Brooklyn|          Bath Beach|   Boro Zone|\n",
      "|        12|    Manhattan|        Battery Park| Yellow Zone|\n",
      "|        13|    Manhattan|   Battery Park City| Yellow Zone|\n",
      "|        14|     Brooklyn|           Bay Ridge|   Boro Zone|\n",
      "|        15|       Queens|Bay Terrace/Fort ...|   Boro Zone|\n",
      "|        16|       Queens|             Bayside|   Boro Zone|\n",
      "|        17|     Brooklyn|             Bedford|   Boro Zone|\n",
      "|        18|        Bronx|        Bedford Park|   Boro Zone|\n",
      "|        19|       Queens|           Bellerose|   Boro Zone|\n",
      "|        20|        Bronx|             Belmont|   Boro Zone|\n",
      "+----------+-------------+--------------------+------------+\n",
      "only showing top 20 rows\n",
      "\n"
     ]
    }
   ],
   "source": [
    "df2 = spark.read \\\n",
    "    .option(\"header\", \"true\") \\\n",
    "    .csv('taxi_zone_lookup.csv')\n",
    "\n",
    "df2.show()"
   ]
  },
  {
   "cell_type": "code",
   "execution_count": 55,
   "id": "8bac7ce6-4b58-4a49-aa0f-9530736c06bd",
   "metadata": {},
   "outputs": [
    {
     "data": {
      "text/plain": [
       "StructType([StructField('LocationID', DoubleType(), True), StructField('Borough', StringType(), True), StructField('Zone', StringType(), True), StructField('service_zone', StringType(), True)])"
      ]
     },
     "execution_count": 55,
     "metadata": {},
     "output_type": "execute_result"
    }
   ],
   "source": [
    "df2.schema"
   ]
  },
  {
   "cell_type": "code",
   "execution_count": 53,
   "id": "965c48f9-d1c4-4480-b938-061247fdd3f4",
   "metadata": {},
   "outputs": [],
   "source": [
    "from pyspark.sql.functions import col\n",
    "df2 = df2.withColumn(\"LocationID\", col(\"LocationID\").cast(\"double\"))"
   ]
  },
  {
   "cell_type": "code",
   "execution_count": 54,
   "id": "902867e7-dd29-4555-999e-374c164113fb",
   "metadata": {},
   "outputs": [],
   "source": [
    "df2.createOrReplaceTempView(\"lookup\")"
   ]
  },
  {
   "cell_type": "code",
   "execution_count": 51,
   "id": "1d8282bf-ba46-4812-b8fd-7a0ba711c33a",
   "metadata": {},
   "outputs": [
    {
     "data": {
      "text/plain": [
       "StructType([StructField('dispatching_base_num', StringType(), True), StructField('pickup_datetime', TimestampNTZType(), True), StructField('dropOff_datetime', TimestampNTZType(), True), StructField('PUlocationID', DoubleType(), True), StructField('DOlocationID', DoubleType(), True), StructField('SR_Flag', IntegerType(), True), StructField('Affiliated_base_number', StringType(), True)])"
      ]
     },
     "execution_count": 51,
     "metadata": {},
     "output_type": "execute_result"
    }
   ],
   "source": [
    "df.schema"
   ]
  },
  {
   "cell_type": "code",
   "execution_count": 47,
   "id": "74e6388a-824d-4f2e-8636-bd333fd8d74f",
   "metadata": {
    "scrolled": true
   },
   "outputs": [
    {
     "name": "stderr",
     "output_type": "stream",
     "text": [
      "[Stage 82:===========================================>              (3 + 1) / 4]\r"
     ]
    },
    {
     "name": "stdout",
     "output_type": "stream",
     "text": [
      "+--------------------+-------------------+-------------------+------------+------------+-------+----------------------+\n",
      "|dispatching_base_num|    pickup_datetime|   dropOff_datetime|PUlocationID|DOlocationID|SR_Flag|Affiliated_base_number|\n",
      "+--------------------+-------------------+-------------------+------------+------------+-------+----------------------+\n",
      "|              B00310|2019-10-17 16:55:36|2019-10-17 16:59:14|       264.0|       208.0|   NULL|                B03017|\n",
      "|              B01626|2019-10-05 02:25:14|2019-10-05 02:43:43|       264.0|       197.0|   NULL|                B01626|\n",
      "|              B00789|2019-10-03 22:43:16|2019-10-03 22:52:21|       264.0|       264.0|   NULL|                B00789|\n",
      "|              B00900|2019-10-09 10:59:32|2019-10-09 11:15:28|       264.0|       258.0|   NULL|                B00900|\n",
      "|              B02157|2019-10-18 18:19:11|2019-10-18 18:21:10|       264.0|       265.0|   NULL|                B02157|\n",
      "|              B03055|2019-10-18 13:55:58|2019-10-18 15:12:59|       264.0|       228.0|   NULL|                B03055|\n",
      "|              B02653|2019-10-04 10:10:17|2019-10-04 10:34:06|       264.0|       241.0|   NULL|                B02653|\n",
      "|              B03160|2019-10-06 14:28:00|2019-10-06 14:44:00|       155.0|       155.0|   NULL|                B02875|\n",
      "|              B02461|2019-10-18 16:04:44|2019-10-18 16:10:03|       264.0|       119.0|   NULL|                B02461|\n",
      "|              B02133|2019-10-11 11:07:26|2019-10-11 12:00:04|       264.0|       264.0|   NULL|                B01899|\n",
      "|              B00272|2019-10-18 21:50:14|2019-10-18 22:57:00|       264.0|       264.0|   NULL|                B00272|\n",
      "|              B01315|2019-10-22 22:23:57|2019-10-22 22:29:25|       264.0|       242.0|   NULL|                B01315|\n",
      "|              B03080|2019-10-12 07:01:57|2019-10-12 08:33:05|       264.0|       174.0|   NULL|                B03127|\n",
      "|              B02401|2019-10-15 08:15:19|2019-10-15 08:34:27|       264.0|       145.0|   NULL|                B02401|\n",
      "|              B00256|2019-10-14 18:47:40|2019-10-14 19:16:30|       264.0|       264.0|   NULL|                B00256|\n",
      "|              B01800|2019-10-07 10:31:00|2019-10-07 11:54:00|       264.0|       264.0|   NULL|                B01800|\n",
      "|              B00860|2019-10-15 09:43:22|2019-10-15 09:57:13|       264.0|       119.0|   NULL|                B00860|\n",
      "|              B02677|2019-10-05 09:08:21|2019-10-05 09:21:03|       264.0|        76.0|   NULL|                B02677|\n",
      "|              B03060|2019-10-04 15:45:54|2019-10-04 16:00:52|       264.0|       165.0|   NULL|                B03060|\n",
      "|              B02715|2019-10-14 15:10:09|2019-10-14 16:26:03|       265.0|       252.0|   NULL|                B02715|\n",
      "+--------------------+-------------------+-------------------+------------+------------+-------+----------------------+\n",
      "only showing top 20 rows\n",
      "\n"
     ]
    },
    {
     "name": "stderr",
     "output_type": "stream",
     "text": [
      "                                                                                \r"
     ]
    }
   ],
   "source": [
    "df.show()"
   ]
  },
  {
   "cell_type": "code",
   "execution_count": 59,
   "id": "7228a397-fc3b-4931-b98f-4ed9f8a748e6",
   "metadata": {},
   "outputs": [
    {
     "name": "stderr",
     "output_type": "stream",
     "text": [
      "[Stage 91:======================================>                   (4 + 2) / 6]\r"
     ]
    },
    {
     "name": "stdout",
     "output_type": "stream",
     "text": [
      "+---+--------------------+\n",
      "|num|                Zone|\n",
      "+---+--------------------+\n",
      "|  1|         Jamaica Bay|\n",
      "|  2|Governor's Island...|\n",
      "|  5| Green-Wood Cemetery|\n",
      "|  8|       Broad Channel|\n",
      "| 14|     Highbridge Park|\n",
      "| 15|        Battery Park|\n",
      "| 23|Saint Michaels Ce...|\n",
      "| 25|Breezy Point/Fort...|\n",
      "| 26|Marine Park/Floyd...|\n",
      "| 29|        Astoria Park|\n",
      "| 39|    Inwood Hill Park|\n",
      "| 47|       Willets Point|\n",
      "| 53|Forest Park/Highl...|\n",
      "| 57|  Brooklyn Navy Yard|\n",
      "| 62|        Crotona Park|\n",
      "| 77|        Country Club|\n",
      "| 89|     Freshkills Park|\n",
      "| 98|       Prospect Park|\n",
      "|105|     Columbia Street|\n",
      "|110|  South Williamsburg|\n",
      "+---+--------------------+\n",
      "only showing top 20 rows\n",
      "\n"
     ]
    },
    {
     "name": "stderr",
     "output_type": "stream",
     "text": [
      "                                                                                \r"
     ]
    }
   ],
   "source": [
    "spark.sql(\" WITH CTE AS (SELECT * FROM homework5 a \\\n",
    "                        LEFT JOIN lookup b \\\n",
    "                        ON a.PUlocationID = b.LocationID) \\\n",
    "            SELECT COUNT(dispatching_base_num) as num,Zone \\\n",
    "            FROM CTE \\\n",
    "            GROUP BY Zone \\\n",
    "            ORDER BY num ASC\").show()"
   ]
  },
  {
   "cell_type": "code",
   "execution_count": null,
   "id": "7187ce51-403c-49d9-a58e-98e1610acd1e",
   "metadata": {},
   "outputs": [],
   "source": []
  },
  {
   "cell_type": "code",
   "execution_count": null,
   "id": "a4600f1e-48e0-4a20-83ed-1fd660d88ffa",
   "metadata": {},
   "outputs": [],
   "source": []
  },
  {
   "cell_type": "code",
   "execution_count": null,
   "id": "cec0dc68-3ca0-4c91-83e2-689814cf4d0d",
   "metadata": {},
   "outputs": [],
   "source": []
  }
 ],
 "metadata": {
  "kernelspec": {
   "display_name": "Python 3 (ipykernel)",
   "language": "python",
   "name": "python3"
  },
  "language_info": {
   "codemirror_mode": {
    "name": "ipython",
    "version": 3
   },
   "file_extension": ".py",
   "mimetype": "text/x-python",
   "name": "python",
   "nbconvert_exporter": "python",
   "pygments_lexer": "ipython3",
   "version": "3.11.2"
  }
 },
 "nbformat": 4,
 "nbformat_minor": 5
}
